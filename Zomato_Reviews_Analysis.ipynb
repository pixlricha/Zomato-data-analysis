{
  "metadata": {
    "kernelspec": {
      "language": "python",
      "display_name": "Python 3",
      "name": "python3"
    },
    "language_info": {
      "name": "python",
      "version": "3.10.12",
      "mimetype": "text/x-python",
      "codemirror_mode": {
        "name": "ipython",
        "version": 3
      },
      "pygments_lexer": "ipython3",
      "nbconvert_exporter": "python",
      "file_extension": ".py"
    },
    "kaggle": {
      "accelerator": "none",
      "dataSources": [
        {
          "sourceId": 4875434,
          "sourceType": "datasetVersion",
          "datasetId": 2826904
        }
      ],
      "dockerImageVersionId": 30558,
      "isInternetEnabled": false,
      "language": "python",
      "sourceType": "notebook",
      "isGpuEnabled": false
    },
    "colab": {
      "name": "Zomato Reviews Analysis",
      "provenance": [],
      "include_colab_link": true
    }
  },
  "nbformat_minor": 0,
  "nbformat": 4,
  "cells": [
    {
      "cell_type": "markdown",
      "metadata": {
        "id": "view-in-github",
        "colab_type": "text"
      },
      "source": [
        "<a href=\"https://colab.research.google.com/github/pixlricha/Zomato-data-analysis/blob/main/Zomato_Reviews_Analysis.ipynb\" target=\"_parent\"><img src=\"https://colab.research.google.com/assets/colab-badge.svg\" alt=\"Open In Colab\"/></a>"
      ]
    },
    {
      "source": [
        "\n",
        "# IMPORTANT: RUN THIS CELL IN ORDER TO IMPORT YOUR KAGGLE DATA SOURCES\n",
        "# TO THE CORRECT LOCATION (/kaggle/input) IN YOUR NOTEBOOK,\n",
        "# THEN FEEL FREE TO DELETE THIS CELL.\n",
        "# NOTE: THIS NOTEBOOK ENVIRONMENT DIFFERS FROM KAGGLE'S PYTHON\n",
        "# ENVIRONMENT SO THERE MAY BE MISSING LIBRARIES USED BY YOUR\n",
        "# NOTEBOOK.\n",
        "\n",
        "import os\n",
        "import sys\n",
        "from tempfile import NamedTemporaryFile\n",
        "from urllib.request import urlopen\n",
        "from urllib.parse import unquote, urlparse\n",
        "from urllib.error import HTTPError\n",
        "from zipfile import ZipFile\n",
        "import tarfile\n",
        "import shutil\n",
        "\n",
        "CHUNK_SIZE = 40960\n",
        "DATA_SOURCE_MAPPING = 'tomato-reviews:https%3A%2F%2Fstorage.googleapis.com%2Fkaggle-data-sets%2F2826904%2F4875434%2Fbundle%2Farchive.zip%3FX-Goog-Algorithm%3DGOOG4-RSA-SHA256%26X-Goog-Credential%3Dgcp-kaggle-com%2540kaggle-161607.iam.gserviceaccount.com%252F20240617%252Fauto%252Fstorage%252Fgoog4_request%26X-Goog-Date%3D20240617T051124Z%26X-Goog-Expires%3D259200%26X-Goog-SignedHeaders%3Dhost%26X-Goog-Signature%3Db2402d5f671719f6b08fb0ec4c4300e53320c9b043608b245193c22e0ef031d1e3ad1ed22beac773db3ad52220e3e73789aff7ac9675f711a541710aba091ed303b5f2854c5459f8c61e8608216f1c047de628f3b5ac958cfc0f78f1d99c97ba822815b911835d2fdb2c606052f72d851d759c3a9f873dba37e5cdeba229685de6419f4e20c0dde785237610f4ea324cceb1dc3555c72d5ea06b3d71e48f653904cd45480f97184e002dfcb250824c5c813018bc773799e1084975f35f34a685c936dae597c96336ba786c50fa323523848d00f53a581fc563e55c6284b9141e793d40df78db95461fcf1fdd923bc22be1a63e3ee1cd1f635100727c074f16b9'\n",
        "\n",
        "KAGGLE_INPUT_PATH='/kaggle/input'\n",
        "KAGGLE_WORKING_PATH='/kaggle/working'\n",
        "KAGGLE_SYMLINK='kaggle'\n",
        "\n",
        "!umount /kaggle/input/ 2> /dev/null\n",
        "shutil.rmtree('/kaggle/input', ignore_errors=True)\n",
        "os.makedirs(KAGGLE_INPUT_PATH, 0o777, exist_ok=True)\n",
        "os.makedirs(KAGGLE_WORKING_PATH, 0o777, exist_ok=True)\n",
        "\n",
        "try:\n",
        "  os.symlink(KAGGLE_INPUT_PATH, os.path.join(\"..\", 'input'), target_is_directory=True)\n",
        "except FileExistsError:\n",
        "  pass\n",
        "try:\n",
        "  os.symlink(KAGGLE_WORKING_PATH, os.path.join(\"..\", 'working'), target_is_directory=True)\n",
        "except FileExistsError:\n",
        "  pass\n",
        "\n",
        "for data_source_mapping in DATA_SOURCE_MAPPING.split(','):\n",
        "    directory, download_url_encoded = data_source_mapping.split(':')\n",
        "    download_url = unquote(download_url_encoded)\n",
        "    filename = urlparse(download_url).path\n",
        "    destination_path = os.path.join(KAGGLE_INPUT_PATH, directory)\n",
        "    try:\n",
        "        with urlopen(download_url) as fileres, NamedTemporaryFile() as tfile:\n",
        "            total_length = fileres.headers['content-length']\n",
        "            print(f'Downloading {directory}, {total_length} bytes compressed')\n",
        "            dl = 0\n",
        "            data = fileres.read(CHUNK_SIZE)\n",
        "            while len(data) > 0:\n",
        "                dl += len(data)\n",
        "                tfile.write(data)\n",
        "                done = int(50 * dl / int(total_length))\n",
        "                sys.stdout.write(f\"\\r[{'=' * done}{' ' * (50-done)}] {dl} bytes downloaded\")\n",
        "                sys.stdout.flush()\n",
        "                data = fileres.read(CHUNK_SIZE)\n",
        "            if filename.endswith('.zip'):\n",
        "              with ZipFile(tfile) as zfile:\n",
        "                zfile.extractall(destination_path)\n",
        "            else:\n",
        "              with tarfile.open(tfile.name) as tarfile:\n",
        "                tarfile.extractall(destination_path)\n",
        "            print(f'\\nDownloaded and uncompressed: {directory}')\n",
        "    except HTTPError as e:\n",
        "        print(f'Failed to load (likely expired) {download_url} to path {destination_path}')\n",
        "        continue\n",
        "    except OSError as e:\n",
        "        print(f'Failed to load {download_url} to path {destination_path}')\n",
        "        continue\n",
        "\n",
        "print('Data source import complete.')\n"
      ],
      "metadata": {
        "id": "KHZOdkJOm4G0"
      },
      "cell_type": "code",
      "outputs": [],
      "execution_count": null
    },
    {
      "cell_type": "markdown",
      "source": [
        "> #  About Dataset\n",
        "\n",
        "This dataset containing information of food restraunts in banglaore who are working with Zomato.The data was scraped from Zomato in two phase. After going through the structure of the website I found\n",
        "\n",
        "for each neighborhood there are 6-7 category of restaurants viz. Buffet, Cafes, Delivery, Desserts, Dine-out, Drinks & nightlife, Pubs and bars.\n",
        "So, here we are trying to find the best restaurants for customer depends on their need.\n",
        "\n",
        "# Possible Findings :\n",
        "\n",
        "* 1) How many restaurants accpeting online order for zomato?\n",
        "\n",
        "* 2) Find best location by seeing dataset.\n",
        "\n",
        "* 3) Find Types of restaurants and their count.\n",
        "\n",
        "* 4) Find count of restaurants have table boking facility.\n",
        "\n",
        "* 5) Find number of restaurant at given location.\n",
        "\n",
        "* 6) Find most famous restaurants chains like Franchise(Rastaurants having more than one branch) in Bangalore.\n",
        "\n",
        "* 7) Find how many voters gives rating for each 'type' and aggregate rating of that 'type'.\n",
        "\n",
        "* 8) Gaussian Rest Type(Normal Distribution) of Rating.\n",
        "\n",
        "* 9) Find the how many Restaurants havign Chinese and North Indian food in their food type.\n",
        "\n",
        "* 10) Find the most profitable type of restaurant."
      ],
      "metadata": {
        "id": "B1upExVHm4G3"
      }
    },
    {
      "cell_type": "code",
      "source": [
        "# This Python 3 environment comes with many helpful analytics libraries installed\n",
        "# It is defined by the kaggle/python Docker image: https://github.com/kaggle/docker-python\n",
        "# For example, here's several helpful packages to load\n",
        "\n",
        "import numpy as np # linear algebra\n",
        "import pandas as pd # data processing, CSV file I/O (e.g. pd.read_csv)\n",
        "\n",
        "# Input data files are available in the read-only \"../input/\" directory\n",
        "# For example, running this (by clicking run or pressing Shift+Enter) will list all files under the input directory\n",
        "\n",
        "import os\n",
        "for dirname, _, filenames in os.walk('/kaggle/input'):\n",
        "    for filename in filenames:\n",
        "        print(os.path.join(dirname, filename))\n",
        "\n",
        "# You can write up to 20GB to the current directory (/kaggle/working/) that gets preserved as output when you create a version using \"Save & Run All\"\n",
        "# You can also write temporary files to /kaggle/temp/, but they won't be saved outside of the current session"
      ],
      "metadata": {
        "trusted": true,
        "id": "GByfI353m4G4"
      },
      "execution_count": null,
      "outputs": []
    },
    {
      "cell_type": "markdown",
      "source": [
        "# Reading Dataset"
      ],
      "metadata": {
        "id": "yqXXNmVGm4G5"
      }
    },
    {
      "cell_type": "code",
      "source": [
        "zmt= pd.read_csv('/kaggle/input/tomato-reviews/zomato.csv')"
      ],
      "metadata": {
        "execution": {
          "iopub.status.busy": "2023-09-26T12:24:19.056872Z",
          "iopub.execute_input": "2023-09-26T12:24:19.057269Z",
          "iopub.status.idle": "2023-09-26T12:24:25.099552Z",
          "shell.execute_reply.started": "2023-09-26T12:24:19.057237Z",
          "shell.execute_reply": "2023-09-26T12:24:25.098235Z"
        },
        "trusted": true,
        "id": "C9dCuU4Xm4G5"
      },
      "execution_count": null,
      "outputs": []
    },
    {
      "cell_type": "code",
      "source": [
        "zmt.head()"
      ],
      "metadata": {
        "execution": {
          "iopub.status.busy": "2023-09-26T12:24:07.343382Z",
          "iopub.execute_input": "2023-09-26T12:24:07.344096Z",
          "iopub.status.idle": "2023-09-26T12:24:07.362533Z",
          "shell.execute_reply.started": "2023-09-26T12:24:07.344051Z",
          "shell.execute_reply": "2023-09-26T12:24:07.361197Z"
        },
        "trusted": true,
        "id": "5kFElZBMm4G5"
      },
      "execution_count": null,
      "outputs": []
    },
    {
      "cell_type": "code",
      "source": [
        "zmt.info()"
      ],
      "metadata": {
        "execution": {
          "iopub.status.busy": "2023-09-26T12:24:13.83319Z",
          "iopub.execute_input": "2023-09-26T12:24:13.833622Z",
          "iopub.status.idle": "2023-09-26T12:24:13.90133Z",
          "shell.execute_reply.started": "2023-09-26T12:24:13.833587Z",
          "shell.execute_reply": "2023-09-26T12:24:13.899905Z"
        },
        "trusted": true,
        "id": "iwaxfeFom4G6"
      },
      "execution_count": null,
      "outputs": []
    },
    {
      "cell_type": "markdown",
      "source": [
        "Here we can see we are having 17 columns and some columns including NaN values and incorrect data_types.\n",
        "\n",
        "Ex: approx_cost(for two people) column has integer values but having object data_type."
      ],
      "metadata": {
        "id": "jNKqFaGom4G6"
      }
    },
    {
      "cell_type": "markdown",
      "source": [
        "# Droping Unnecessary Columns\n",
        "Unnecessary Columns:\n",
        "\n",
        "Unnecessary columns are those columns which are not that useful for analysis.\n",
        "\n",
        "Ex: Phone_Number, we not able to predict anything using Phone numbers. So, we can drop that columns which we are not going to use."
      ],
      "metadata": {
        "id": "HojwZkyvm4G6"
      }
    },
    {
      "cell_type": "code",
      "source": [
        "zmt.drop(['url', 'reviews_list', 'menu_item', 'address', 'phone', 'dish_liked'], axis=1, inplace=True)"
      ],
      "metadata": {
        "execution": {
          "iopub.status.busy": "2023-09-26T12:24:34.578273Z",
          "iopub.execute_input": "2023-09-26T12:24:34.578704Z",
          "iopub.status.idle": "2023-09-26T12:24:34.607943Z",
          "shell.execute_reply.started": "2023-09-26T12:24:34.578673Z",
          "shell.execute_reply": "2023-09-26T12:24:34.606615Z"
        },
        "trusted": true,
        "id": "KRYcfpFYm4G6"
      },
      "execution_count": null,
      "outputs": []
    },
    {
      "cell_type": "code",
      "source": [
        "zmt.head(2)"
      ],
      "metadata": {
        "execution": {
          "iopub.status.busy": "2023-09-26T12:24:53.194977Z",
          "iopub.execute_input": "2023-09-26T12:24:53.195484Z",
          "iopub.status.idle": "2023-09-26T12:24:53.213383Z",
          "shell.execute_reply.started": "2023-09-26T12:24:53.19544Z",
          "shell.execute_reply": "2023-09-26T12:24:53.212243Z"
        },
        "trusted": true,
        "id": "np-R1HHem4G7"
      },
      "execution_count": null,
      "outputs": []
    },
    {
      "cell_type": "markdown",
      "source": [
        "Here we are getting only those columns which are useful for analysis."
      ],
      "metadata": {
        "id": "JWnALVcnm4G7"
      }
    },
    {
      "cell_type": "markdown",
      "source": [
        "# Renaming Columns\n",
        "we are renaming the columns for better readibility"
      ],
      "metadata": {
        "id": "4E_lCdGvm4G7"
      }
    },
    {
      "cell_type": "code",
      "source": [
        "zmt.rename(columns={'name':'restaurants', 'rate': 'rating', 'cuisines':'food_type','listed_in(type)':'type', 'listed_in(city)':'city', 'approx_cost(for two people)':'cost'}, inplace=True)"
      ],
      "metadata": {
        "execution": {
          "iopub.status.busy": "2023-09-26T12:25:19.876663Z",
          "iopub.execute_input": "2023-09-26T12:25:19.877868Z",
          "iopub.status.idle": "2023-09-26T12:25:19.88442Z",
          "shell.execute_reply.started": "2023-09-26T12:25:19.877828Z",
          "shell.execute_reply": "2023-09-26T12:25:19.883208Z"
        },
        "trusted": true,
        "id": "BmwJuWENm4G7"
      },
      "execution_count": null,
      "outputs": []
    },
    {
      "cell_type": "code",
      "source": [
        "zmt.head(2)"
      ],
      "metadata": {
        "execution": {
          "iopub.status.busy": "2023-09-26T12:25:22.951727Z",
          "iopub.execute_input": "2023-09-26T12:25:22.952138Z",
          "iopub.status.idle": "2023-09-26T12:25:22.972394Z",
          "shell.execute_reply.started": "2023-09-26T12:25:22.9521Z",
          "shell.execute_reply": "2023-09-26T12:25:22.971225Z"
        },
        "trusted": true,
        "id": "6nAaQvzQm4G7"
      },
      "execution_count": null,
      "outputs": []
    },
    {
      "cell_type": "markdown",
      "source": [
        "# Droping NaN values"
      ],
      "metadata": {
        "id": "j8luD9gOm4G7"
      }
    },
    {
      "cell_type": "code",
      "source": [
        "zmt.dropna(inplace=True)"
      ],
      "metadata": {
        "execution": {
          "iopub.status.busy": "2023-09-26T12:25:29.154871Z",
          "iopub.execute_input": "2023-09-26T12:25:29.155257Z",
          "iopub.status.idle": "2023-09-26T12:25:29.224626Z",
          "shell.execute_reply.started": "2023-09-26T12:25:29.155224Z",
          "shell.execute_reply": "2023-09-26T12:25:29.223277Z"
        },
        "trusted": true,
        "id": "hcxiwhPQm4G8"
      },
      "execution_count": null,
      "outputs": []
    },
    {
      "cell_type": "markdown",
      "source": [
        "> # Cleaning Individual Columns\n",
        "\n",
        "**Columns : 'restaurants'**\n",
        "\n",
        "Column contains Restaurant Names"
      ],
      "metadata": {
        "id": "deS_FIigm4G8"
      }
    },
    {
      "cell_type": "code",
      "source": [
        "zmt.groupby('restaurants').count().head()\n",
        "# We are grouping the restaurant names and their count."
      ],
      "metadata": {
        "execution": {
          "iopub.status.busy": "2023-09-26T12:25:33.55244Z",
          "iopub.execute_input": "2023-09-26T12:25:33.553268Z",
          "iopub.status.idle": "2023-09-26T12:25:33.63257Z",
          "shell.execute_reply.started": "2023-09-26T12:25:33.553225Z",
          "shell.execute_reply": "2023-09-26T12:25:33.631317Z"
        },
        "trusted": true,
        "id": "1A2Ij0ZTm4G8"
      },
      "execution_count": null,
      "outputs": []
    },
    {
      "cell_type": "markdown",
      "source": [
        "Here we can see we are got restaurant names having disturbed characters\n",
        "\n",
        "so we need to remove that characters from the name using pattern matcing to get orignal names."
      ],
      "metadata": {
        "id": "WgxE641Um4G8"
      }
    },
    {
      "cell_type": "code",
      "source": [
        "# '[Ãx][^A-Za-z]+' pattern I got to find disturbed characters using regex. and replacing those characters with empty spaces.\n",
        "zmt['restaurants']=zmt['restaurants'].str.replace('[Ãx][^A-Za-z]+', '', regex=True)"
      ],
      "metadata": {
        "execution": {
          "iopub.status.busy": "2023-09-26T12:25:37.877681Z",
          "iopub.execute_input": "2023-09-26T12:25:37.878076Z",
          "iopub.status.idle": "2023-09-26T12:25:37.949088Z",
          "shell.execute_reply.started": "2023-09-26T12:25:37.878044Z",
          "shell.execute_reply": "2023-09-26T12:25:37.947846Z"
        },
        "trusted": true,
        "id": "PkDaIh8Rm4G8"
      },
      "execution_count": null,
      "outputs": []
    },
    {
      "cell_type": "code",
      "source": [
        "zmt.groupby('restaurants').count().head()"
      ],
      "metadata": {
        "execution": {
          "iopub.status.busy": "2023-09-26T12:25:41.432073Z",
          "iopub.execute_input": "2023-09-26T12:25:41.432501Z",
          "iopub.status.idle": "2023-09-26T12:25:41.511553Z",
          "shell.execute_reply.started": "2023-09-26T12:25:41.432452Z",
          "shell.execute_reply": "2023-09-26T12:25:41.510258Z"
        },
        "trusted": true,
        "id": "1NS787jvm4G8"
      },
      "execution_count": null,
      "outputs": []
    },
    {
      "cell_type": "markdown",
      "source": [
        "Here see we successfully removed the disturbed characters from restaurant name(refer 5th row to see transformation)\n",
        "\n",
        "By reading the databse I found the names having incorrect spell. Let me correct them as well."
      ],
      "metadata": {
        "id": "qXHrEMqbm4G8"
      }
    },
    {
      "cell_type": "code",
      "source": [
        "zmt['restaurants']=zmt['restaurants'].str.replace('Caf-|Caf', 'Cafe', regex=True)"
      ],
      "metadata": {
        "execution": {
          "iopub.status.busy": "2023-09-26T12:25:44.976746Z",
          "iopub.execute_input": "2023-09-26T12:25:44.977132Z",
          "iopub.status.idle": "2023-09-26T12:25:45.031045Z",
          "shell.execute_reply.started": "2023-09-26T12:25:44.977102Z",
          "shell.execute_reply": "2023-09-26T12:25:45.029944Z"
        },
        "trusted": true,
        "id": "9fYs4HRWm4G8"
      },
      "execution_count": null,
      "outputs": []
    },
    {
      "cell_type": "markdown",
      "source": [
        "**Column: 'online_order'**\n",
        "\n",
        "Column shows that restaurants accepting online orders or not."
      ],
      "metadata": {
        "id": "FuwSXX61m4G8"
      }
    },
    {
      "cell_type": "code",
      "source": [
        "zmt['online_order'].unique()\n"
      ],
      "metadata": {
        "execution": {
          "iopub.status.busy": "2023-09-26T12:25:48.032924Z",
          "iopub.execute_input": "2023-09-26T12:25:48.033704Z",
          "iopub.status.idle": "2023-09-26T12:25:48.045793Z",
          "shell.execute_reply.started": "2023-09-26T12:25:48.033669Z",
          "shell.execute_reply": "2023-09-26T12:25:48.04444Z"
        },
        "trusted": true,
        "id": "ogp_cQxTm4G9"
      },
      "execution_count": null,
      "outputs": []
    },
    {
      "cell_type": "markdown",
      "source": [
        "Here, we can see only Yes and No values are present so there is no need to clean the column."
      ],
      "metadata": {
        "id": "MdK8gB53m4G9"
      }
    },
    {
      "cell_type": "markdown",
      "source": [
        "**Column:'book_table'**\n",
        "\n",
        "Column shows that restaurants having table booking facility or not."
      ],
      "metadata": {
        "id": "TtMKa5Ypm4G9"
      }
    },
    {
      "cell_type": "code",
      "source": [
        "zmt['book_table'].unique()"
      ],
      "metadata": {
        "execution": {
          "iopub.status.busy": "2023-09-26T12:25:51.207064Z",
          "iopub.execute_input": "2023-09-26T12:25:51.207525Z",
          "iopub.status.idle": "2023-09-26T12:25:51.219522Z",
          "shell.execute_reply.started": "2023-09-26T12:25:51.207482Z",
          "shell.execute_reply": "2023-09-26T12:25:51.218156Z"
        },
        "trusted": true,
        "id": "zQsNx9Oum4G9"
      },
      "execution_count": null,
      "outputs": []
    },
    {
      "cell_type": "markdown",
      "source": [
        "Here also we got the same result so no need to perform any cleaning."
      ],
      "metadata": {
        "id": "PHDOynQjm4G9"
      }
    },
    {
      "cell_type": "markdown",
      "source": [
        "**Column: 'rating'**\n",
        "\n",
        "Column shows the rating of the hotel out of 5"
      ],
      "metadata": {
        "id": "MSGBVIodm4G9"
      }
    },
    {
      "cell_type": "code",
      "source": [
        "zmt['rating'].unique()"
      ],
      "metadata": {
        "execution": {
          "iopub.status.busy": "2023-09-26T12:26:40.413126Z",
          "iopub.execute_input": "2023-09-26T12:26:40.413553Z",
          "iopub.status.idle": "2023-09-26T12:26:40.426209Z",
          "shell.execute_reply.started": "2023-09-26T12:26:40.413519Z",
          "shell.execute_reply": "2023-09-26T12:26:40.424844Z"
        },
        "trusted": true,
        "id": "uEQAdXftm4G9"
      },
      "execution_count": null,
      "outputs": []
    },
    {
      "cell_type": "markdown",
      "source": [
        "Here, we can see rating column having string values and having object datatype including 'NEW' and '-' values. we know that rating is always out of 5 and in decimal format. So, we need to clean our 'rating' columns.\n",
        "\n",
        "Need changes:\n",
        "\n",
        "* Remove 'NEW' and '-' values.\n",
        "* Remove '/5' from the rating.\n",
        "* Covert datatype object to float (float_datatype has decimal values).\n",
        "\n",
        "Try to do all changes in one block of code"
      ],
      "metadata": {
        "id": "ydGOSqDKm4G9"
      }
    },
    {
      "cell_type": "code",
      "source": [
        "replace=lambda x:x.replace('/5',\"\") #lambda function to replace /5 to empty string\n",
        "l=[] #list to store cleaned values\n",
        "for val in map(replace, zmt['rating']): #map function to read data from column and replace /5 to empty string\n",
        "    if val!='NEW' and val!='-': #excluding 'New' and '-' values\n",
        "        var=float(val) #converting the result in float datatype and storing into one variable\n",
        "    l.append(var) # appending cleaned values in created list\n",
        "zmt['rating']=l # updating rating column with new and cleaned values"
      ],
      "metadata": {
        "execution": {
          "iopub.status.busy": "2023-09-26T12:26:45.607501Z",
          "iopub.execute_input": "2023-09-26T12:26:45.608217Z",
          "iopub.status.idle": "2023-09-26T12:26:45.672194Z",
          "shell.execute_reply.started": "2023-09-26T12:26:45.608178Z",
          "shell.execute_reply": "2023-09-26T12:26:45.670779Z"
        },
        "trusted": true,
        "id": "BzGMNi5mm4G9"
      },
      "execution_count": null,
      "outputs": []
    },
    {
      "cell_type": "code",
      "source": [
        "zmt['rating'].unique(),zmt['rating'].dtype"
      ],
      "metadata": {
        "execution": {
          "iopub.status.busy": "2023-09-26T12:26:51.362392Z",
          "iopub.execute_input": "2023-09-26T12:26:51.362858Z",
          "iopub.status.idle": "2023-09-26T12:26:51.37275Z",
          "shell.execute_reply.started": "2023-09-26T12:26:51.362824Z",
          "shell.execute_reply": "2023-09-26T12:26:51.371452Z"
        },
        "trusted": true,
        "id": "XL3s6wCmm4G-"
      },
      "execution_count": null,
      "outputs": []
    },
    {
      "cell_type": "markdown",
      "source": [
        "See we got the cleaned values with float datatype.\n",
        "\n"
      ],
      "metadata": {
        "id": "ScWrgxEQm4G-"
      }
    },
    {
      "cell_type": "markdown",
      "source": [
        "**Column: 'votes'**\n",
        "\n",
        "Column contains number of votes hotel got."
      ],
      "metadata": {
        "id": "paOT8Gdcm4G-"
      }
    },
    {
      "cell_type": "code",
      "source": [
        "zmt['votes'].isnull().value_counts()"
      ],
      "metadata": {
        "execution": {
          "iopub.status.busy": "2023-09-26T12:26:54.191735Z",
          "iopub.execute_input": "2023-09-26T12:26:54.192134Z",
          "iopub.status.idle": "2023-09-26T12:26:54.203454Z",
          "shell.execute_reply.started": "2023-09-26T12:26:54.192103Z",
          "shell.execute_reply": "2023-09-26T12:26:54.202176Z"
        },
        "trusted": true,
        "id": "z4dVNb39m4G-"
      },
      "execution_count": null,
      "outputs": []
    },
    {
      "cell_type": "markdown",
      "source": [
        "Here, we can see there is no null values and having correct datatype. So, no need to clean anything."
      ],
      "metadata": {
        "id": "BBanqX_Im4G-"
      }
    },
    {
      "cell_type": "markdown",
      "source": [
        "**Column: 'location'**\n",
        "\n",
        "Column contains locations of restaurants."
      ],
      "metadata": {
        "id": "r8VutcPcm4HB"
      }
    },
    {
      "cell_type": "code",
      "source": [
        "zmt.location.unique()"
      ],
      "metadata": {
        "execution": {
          "iopub.status.busy": "2023-09-26T12:26:57.87197Z",
          "iopub.execute_input": "2023-09-26T12:26:57.872353Z",
          "iopub.status.idle": "2023-09-26T12:26:57.885284Z",
          "shell.execute_reply.started": "2023-09-26T12:26:57.872322Z",
          "shell.execute_reply": "2023-09-26T12:26:57.883871Z"
        },
        "trusted": true,
        "id": "qInEXpEJm4HC"
      },
      "execution_count": null,
      "outputs": []
    },
    {
      "cell_type": "markdown",
      "source": [
        "Here, aslo all things are correct so no need to perform data cleaning"
      ],
      "metadata": {
        "id": "oSXa62NQm4HC"
      }
    },
    {
      "cell_type": "markdown",
      "source": [
        "**Column: 'rest_type' and 'food_type'**\n",
        "\n",
        "Columns shows that the restaurant types and which type of food restaurants have."
      ],
      "metadata": {
        "id": "-PuUsioWm4HC"
      }
    },
    {
      "cell_type": "code",
      "source": [
        "zmt.rest_type.unique(), zmt.rest_type.isnull().value_counts()"
      ],
      "metadata": {
        "execution": {
          "iopub.status.busy": "2023-09-26T12:27:16.673887Z",
          "iopub.execute_input": "2023-09-26T12:27:16.674342Z",
          "iopub.status.idle": "2023-09-26T12:27:16.69566Z",
          "shell.execute_reply.started": "2023-09-26T12:27:16.674303Z",
          "shell.execute_reply": "2023-09-26T12:27:16.694059Z"
        },
        "trusted": true,
        "id": "EWS8FNxVm4HC"
      },
      "execution_count": null,
      "outputs": []
    },
    {
      "cell_type": "code",
      "source": [
        "zmt.food_type.unique(), zmt.food_type.isnull().value_counts()"
      ],
      "metadata": {
        "execution": {
          "iopub.status.busy": "2023-09-26T12:27:38.647345Z",
          "iopub.execute_input": "2023-09-26T12:27:38.647799Z",
          "iopub.status.idle": "2023-09-26T12:27:38.669309Z",
          "shell.execute_reply.started": "2023-09-26T12:27:38.647766Z",
          "shell.execute_reply": "2023-09-26T12:27:38.668257Z"
        },
        "trusted": true,
        "id": "XBvBoiFgm4HC"
      },
      "execution_count": null,
      "outputs": []
    },
    {
      "cell_type": "markdown",
      "source": [
        "As we see column 'rest_type' and 'food_type' are aslo correct so no need to perform any cleaning operations."
      ],
      "metadata": {
        "id": "14ZqKYd0m4HC"
      }
    },
    {
      "cell_type": "markdown",
      "source": [
        "**Column: 'cost'**\n",
        "\n",
        "Column contains approximate cost for two people.\n",
        "\n"
      ],
      "metadata": {
        "id": "Cm1KsEfpm4HC"
      }
    },
    {
      "cell_type": "code",
      "source": [
        "zmt.cost.unique()"
      ],
      "metadata": {
        "execution": {
          "iopub.status.busy": "2023-09-26T12:27:42.832217Z",
          "iopub.execute_input": "2023-09-26T12:27:42.833267Z",
          "iopub.status.idle": "2023-09-26T12:27:42.845693Z",
          "shell.execute_reply.started": "2023-09-26T12:27:42.833214Z",
          "shell.execute_reply": "2023-09-26T12:27:42.844339Z"
        },
        "trusted": true,
        "id": "uMpGB1R9m4HC"
      },
      "execution_count": null,
      "outputs": []
    },
    {
      "cell_type": "markdown",
      "source": [
        "Here see cost column string values with ',' values. And we know cost is always in int sp we need to make some transformations.\n",
        "\n",
        "Changes need:\n",
        "\n",
        "* Remove ',' from values\n",
        "* Change datatype object to integer(int)"
      ],
      "metadata": {
        "id": "IFKh6aTEm4HC"
      }
    },
    {
      "cell_type": "code",
      "source": [
        "zmt['cost']=zmt['cost'].apply(lambda x:x.replace(\",\", \"\")).astype(int)"
      ],
      "metadata": {
        "execution": {
          "iopub.status.busy": "2023-09-26T12:27:52.737717Z",
          "iopub.execute_input": "2023-09-26T12:27:52.738157Z",
          "iopub.status.idle": "2023-09-26T12:27:52.77292Z",
          "shell.execute_reply.started": "2023-09-26T12:27:52.738119Z",
          "shell.execute_reply": "2023-09-26T12:27:52.771225Z"
        },
        "trusted": true,
        "id": "yx5-9ztdm4HD"
      },
      "execution_count": null,
      "outputs": []
    },
    {
      "cell_type": "code",
      "source": [
        "zmt.cost.unique(), zmt.cost.dtype"
      ],
      "metadata": {
        "execution": {
          "iopub.status.busy": "2023-09-26T12:27:56.231947Z",
          "iopub.execute_input": "2023-09-26T12:27:56.233988Z",
          "iopub.status.idle": "2023-09-26T12:27:56.244636Z",
          "shell.execute_reply.started": "2023-09-26T12:27:56.233922Z",
          "shell.execute_reply": "2023-09-26T12:27:56.243131Z"
        },
        "trusted": true,
        "id": "0C8JifZXm4HD"
      },
      "execution_count": null,
      "outputs": []
    },
    {
      "cell_type": "markdown",
      "source": [
        "Here, using lambda function we replaced ',' to empty string and using astype(int) we converted datatype object to int and update in the cost column and we got cleaned data."
      ],
      "metadata": {
        "id": "erY2Jwc-m4HD"
      }
    },
    {
      "cell_type": "markdown",
      "source": [
        "**Column: 'type'**\n",
        "\n",
        "Column shows which types of arrangment restaurant have."
      ],
      "metadata": {
        "id": "Y49wQq-jm4HD"
      }
    },
    {
      "cell_type": "code",
      "source": [
        "zmt.type.unique()"
      ],
      "metadata": {
        "execution": {
          "iopub.status.busy": "2023-09-26T12:28:04.192663Z",
          "iopub.execute_input": "2023-09-26T12:28:04.193052Z",
          "iopub.status.idle": "2023-09-26T12:28:04.204297Z",
          "shell.execute_reply.started": "2023-09-26T12:28:04.193021Z",
          "shell.execute_reply": "2023-09-26T12:28:04.203304Z"
        },
        "trusted": true,
        "id": "Gb7gh0u-m4HD"
      },
      "execution_count": null,
      "outputs": []
    },
    {
      "cell_type": "markdown",
      "source": [
        "Here also all values are correct and having correct datatype so no need to perform cleaning."
      ],
      "metadata": {
        "id": "afX-jhMmm4HD"
      }
    },
    {
      "cell_type": "markdown",
      "source": [
        "**Column: 'city'**\n",
        "\n",
        "Column contains name of cities of restaurants"
      ],
      "metadata": {
        "id": "Ub49dvmom4HD"
      }
    },
    {
      "cell_type": "code",
      "source": [
        "zmt.city.unique()"
      ],
      "metadata": {
        "execution": {
          "iopub.status.busy": "2023-09-26T12:28:10.058129Z",
          "iopub.execute_input": "2023-09-26T12:28:10.058541Z",
          "iopub.status.idle": "2023-09-26T12:28:10.070835Z",
          "shell.execute_reply.started": "2023-09-26T12:28:10.058508Z",
          "shell.execute_reply": "2023-09-26T12:28:10.069368Z"
        },
        "trusted": true,
        "id": "Vc9_wxf0m4HD"
      },
      "execution_count": null,
      "outputs": []
    },
    {
      "cell_type": "markdown",
      "source": [
        "Here also all values are correct and having correct datatype so no need to perform cleaning."
      ],
      "metadata": {
        "id": "IYph64fMm4HE"
      }
    },
    {
      "cell_type": "markdown",
      "source": [
        "# Droping Duplicates\n",
        "\n",
        "Dropping duplicates means we are removing repeated values or duplicate values from the dataset."
      ],
      "metadata": {
        "id": "iWN-gC1Dm4HE"
      }
    },
    {
      "cell_type": "code",
      "source": [
        "zmt.duplicated().value_counts()"
      ],
      "metadata": {
        "execution": {
          "iopub.status.busy": "2023-09-26T12:28:24.152149Z",
          "iopub.execute_input": "2023-09-26T12:28:24.152586Z",
          "iopub.status.idle": "2023-09-26T12:28:24.212436Z",
          "shell.execute_reply.started": "2023-09-26T12:28:24.15255Z",
          "shell.execute_reply": "2023-09-26T12:28:24.211213Z"
        },
        "trusted": true,
        "id": "ryBEJJ5nm4HE"
      },
      "execution_count": null,
      "outputs": []
    },
    {
      "cell_type": "markdown",
      "source": [
        "We got 80 duplicate values in our dataset we need to remove those."
      ],
      "metadata": {
        "id": "BlSBqT0Xm4HE"
      }
    },
    {
      "cell_type": "code",
      "source": [
        "zmt.drop_duplicates(keep='last',inplace=True)\n",
        "zmt.reset_index(drop=True,inplace=True)"
      ],
      "metadata": {
        "execution": {
          "iopub.status.busy": "2023-09-26T12:28:31.192301Z",
          "iopub.execute_input": "2023-09-26T12:28:31.192753Z",
          "iopub.status.idle": "2023-09-26T12:28:31.258644Z",
          "shell.execute_reply.started": "2023-09-26T12:28:31.192715Z",
          "shell.execute_reply": "2023-09-26T12:28:31.257434Z"
        },
        "trusted": true,
        "id": "rweFWYDWm4HE"
      },
      "execution_count": null,
      "outputs": []
    },
    {
      "cell_type": "code",
      "source": [
        "zmt.duplicated().value_counts()"
      ],
      "metadata": {
        "execution": {
          "iopub.status.busy": "2023-09-26T12:28:34.193624Z",
          "iopub.execute_input": "2023-09-26T12:28:34.194046Z",
          "iopub.status.idle": "2023-09-26T12:28:34.251794Z",
          "shell.execute_reply.started": "2023-09-26T12:28:34.194011Z",
          "shell.execute_reply": "2023-09-26T12:28:34.250584Z"
        },
        "trusted": true,
        "id": "dzntlg0Rm4HE"
      },
      "execution_count": null,
      "outputs": []
    },
    {
      "cell_type": "markdown",
      "source": [
        "As a final step of cleaning we removed all duplicate values from our dataset and we got fully cleaned data."
      ],
      "metadata": {
        "id": "XyAAMI5am4HE"
      }
    },
    {
      "cell_type": "code",
      "source": [
        "zmt"
      ],
      "metadata": {
        "execution": {
          "iopub.status.busy": "2023-09-26T12:28:54.952119Z",
          "iopub.execute_input": "2023-09-26T12:28:54.952558Z",
          "iopub.status.idle": "2023-09-26T12:28:54.98062Z",
          "shell.execute_reply.started": "2023-09-26T12:28:54.952521Z",
          "shell.execute_reply": "2023-09-26T12:28:54.979337Z"
        },
        "trusted": true,
        "id": "sUHgtpH7m4HE"
      },
      "execution_count": null,
      "outputs": []
    },
    {
      "cell_type": "code",
      "source": [
        "zmt.info()"
      ],
      "metadata": {
        "execution": {
          "iopub.status.busy": "2023-09-26T12:29:00.021881Z",
          "iopub.execute_input": "2023-09-26T12:29:00.022651Z",
          "iopub.status.idle": "2023-09-26T12:29:00.073424Z",
          "shell.execute_reply.started": "2023-09-26T12:29:00.022617Z",
          "shell.execute_reply": "2023-09-26T12:29:00.07227Z"
        },
        "trusted": true,
        "id": "fU1C_0hlm4HF"
      },
      "execution_count": null,
      "outputs": []
    },
    {
      "cell_type": "code",
      "source": [
        "zmt.to_csv('./zomato_clean_data.csv')\n",
        "# Saving cleaned dataset in output directory."
      ],
      "metadata": {
        "execution": {
          "iopub.status.busy": "2023-09-26T12:29:04.317057Z",
          "iopub.execute_input": "2023-09-26T12:29:04.317732Z",
          "iopub.status.idle": "2023-09-26T12:29:04.770699Z",
          "shell.execute_reply.started": "2023-09-26T12:29:04.317697Z",
          "shell.execute_reply": "2023-09-26T12:29:04.769374Z"
        },
        "trusted": true,
        "id": "nexSWonsm4HF"
      },
      "execution_count": null,
      "outputs": []
    },
    {
      "cell_type": "markdown",
      "source": [
        "**Therefore, we cleaned our data successfully and got 43453 Values of data out of 51717.**"
      ],
      "metadata": {
        "id": "wiQ7uSS3m4HF"
      }
    },
    {
      "cell_type": "markdown",
      "source": [
        "> #  Data Visualization\n",
        "\n",
        "In data visualization we going to visualize our data how it is, and trying to find some informative data from our dataset.\n",
        "\n",
        "Here we are going to use two python libraries For visualization.\n",
        "\n",
        "* Seaborn\n",
        "* Matplotlib\n",
        "\n",
        "So, first we are going to import them."
      ],
      "metadata": {
        "id": "ex-rAZBvm4HF"
      }
    },
    {
      "cell_type": "code",
      "source": [
        "import matplotlib.pyplot as plt\n",
        "import seaborn as sns"
      ],
      "metadata": {
        "execution": {
          "iopub.status.busy": "2023-09-26T12:29:11.072778Z",
          "iopub.execute_input": "2023-09-26T12:29:11.073169Z",
          "iopub.status.idle": "2023-09-26T12:29:11.07885Z",
          "shell.execute_reply.started": "2023-09-26T12:29:11.073137Z",
          "shell.execute_reply": "2023-09-26T12:29:11.077728Z"
        },
        "trusted": true,
        "id": "gFX7kXk_m4HF"
      },
      "execution_count": null,
      "outputs": []
    },
    {
      "cell_type": "markdown",
      "source": [
        "**We know zomato mostely focused on online delivery lets find,**\n",
        "\n",
        "**1) How many restaurants accpeting online order for zomato?**"
      ],
      "metadata": {
        "id": "uPPEoISem4HF"
      }
    },
    {
      "cell_type": "code",
      "source": [
        "zmt.head(1)"
      ],
      "metadata": {
        "execution": {
          "iopub.status.busy": "2023-09-26T12:29:15.912515Z",
          "iopub.execute_input": "2023-09-26T12:29:15.912912Z",
          "iopub.status.idle": "2023-09-26T12:29:15.93104Z",
          "shell.execute_reply.started": "2023-09-26T12:29:15.91288Z",
          "shell.execute_reply": "2023-09-26T12:29:15.929709Z"
        },
        "trusted": true,
        "id": "hrwD4PVRm4HF"
      },
      "execution_count": null,
      "outputs": []
    },
    {
      "cell_type": "code",
      "source": [
        "plt.figure(figsize=(10,5))\n",
        "sns.countplot(x='online_order', data=zmt)\n",
        "plt.show()"
      ],
      "metadata": {
        "execution": {
          "iopub.status.busy": "2023-09-26T12:29:18.832442Z",
          "iopub.execute_input": "2023-09-26T12:29:18.833307Z",
          "iopub.status.idle": "2023-09-26T12:29:19.100208Z",
          "shell.execute_reply.started": "2023-09-26T12:29:18.833264Z",
          "shell.execute_reply": "2023-09-26T12:29:19.098788Z"
        },
        "trusted": true,
        "id": "ocZ_D1z8m4HF"
      },
      "execution_count": null,
      "outputs": []
    },
    {
      "cell_type": "markdown",
      "source": [
        "By observing the graph, we can say that 25000+ restaurants are accepting online order for zomato and 15000 restaurants not accepting online orders."
      ],
      "metadata": {
        "id": "BWJoRmhzm4HG"
      }
    },
    {
      "cell_type": "markdown",
      "source": [
        "**2) Find best location by seeing dataset.**\n",
        "\n",
        "How can we find? :-\n",
        "\n",
        "We have two columns 'rating' and 'votes' so by getting the average of those columns with repect to 'location' we can find the best location."
      ],
      "metadata": {
        "id": "9phsDAExm4HG"
      }
    },
    {
      "cell_type": "code",
      "source": [
        "plt.figure(figsize=(16,10))\n",
        "ax= plt.subplot(2,1,1)\n",
        "loc_rating=zmt.groupby('location').agg({'rating':'median'})\n",
        "rating_sorted_loc=loc_rating.sort_values('rating',ascending=False).head(5).reset_index()\n",
        "sns.barplot(x='location',y='rating', data=rating_sorted_loc)\n",
        "ax.set_title(\"Best locations by rating and votes\")\n",
        "ax= plt.subplot(2,1,2)\n",
        "loc_votes=zmt.groupby('location').agg({'votes':'median'})\n",
        "votes_sorted_loc=loc_votes.sort_values('votes',ascending=False).head(5).reset_index()\n",
        "sns.barplot(x='location',y='votes', data=votes_sorted_loc)\n",
        "\n"
      ],
      "metadata": {
        "execution": {
          "iopub.status.busy": "2023-09-26T12:29:23.752692Z",
          "iopub.execute_input": "2023-09-26T12:29:23.753097Z",
          "iopub.status.idle": "2023-09-26T12:29:24.351945Z",
          "shell.execute_reply.started": "2023-09-26T12:29:23.753063Z",
          "shell.execute_reply": "2023-09-26T12:29:24.350841Z"
        },
        "trusted": true,
        "id": "4Bkefyz6m4HG"
      },
      "execution_count": null,
      "outputs": []
    },
    {
      "cell_type": "markdown",
      "source": [
        "By observing the above graphs,'levelle Road' has an high rating and votes as well as compare to other.\n",
        "\n",
        "So, we can say that 'levelle Road' is a best location by comparing 'votes' and 'rating' of locations."
      ],
      "metadata": {
        "id": "b7-ABYtzm4HG"
      }
    },
    {
      "cell_type": "markdown",
      "source": [
        "**3) Find Types of restraunts and their count.**"
      ],
      "metadata": {
        "id": "fP54xjZ8m4HG"
      }
    },
    {
      "cell_type": "code",
      "source": [
        "zmt.head(1)"
      ],
      "metadata": {
        "execution": {
          "iopub.status.busy": "2023-09-26T12:29:28.49709Z",
          "iopub.execute_input": "2023-09-26T12:29:28.497545Z",
          "iopub.status.idle": "2023-09-26T12:29:28.514559Z",
          "shell.execute_reply.started": "2023-09-26T12:29:28.497505Z",
          "shell.execute_reply": "2023-09-26T12:29:28.513288Z"
        },
        "trusted": true,
        "id": "6d8IjU2um4HG"
      },
      "execution_count": null,
      "outputs": []
    },
    {
      "cell_type": "code",
      "source": [
        "plt.figure(figsize=(10,20))\n",
        "rest_types=zmt.groupby('rest_type')['restaurants'].count().reset_index()\n",
        "\n",
        "sorted_rest_types=rest_types.sort_values('restaurants',ascending=False).head(40)\n",
        "\n",
        "rest_types.rest_type.count(),sns.barplot(x='restaurants',y='rest_type',data=sorted_rest_types,orient='h')"
      ],
      "metadata": {
        "execution": {
          "iopub.status.busy": "2023-09-26T12:31:12.15336Z",
          "iopub.execute_input": "2023-09-26T12:31:12.155152Z",
          "iopub.status.idle": "2023-09-26T12:31:12.985382Z",
          "shell.execute_reply.started": "2023-09-26T12:31:12.155084Z",
          "shell.execute_reply": "2023-09-26T12:31:12.984096Z"
        },
        "trusted": true,
        "id": "mS_ZW3f4m4HG"
      },
      "execution_count": null,
      "outputs": []
    },
    {
      "cell_type": "markdown",
      "source": [
        "By observing above graph, the 1st line of grapth shows the number of rest_type we have that is 87 and we plotted only top 40 types which are high count of restaurants types.\n",
        "\n",
        "ex:\n",
        "\n",
        "14000 Quick Bites restaurants.\n",
        "\n",
        "10000 Casual Dining restaurants.\n",
        "\n",
        "and so on..."
      ],
      "metadata": {
        "id": "Iy8RjhN8m4HG"
      }
    },
    {
      "cell_type": "markdown",
      "source": [
        "**4) Find Cost's of Restaurants**"
      ],
      "metadata": {
        "id": "n0W7tAXKm4HH"
      }
    },
    {
      "cell_type": "code",
      "source": [
        "zmt.head(1)"
      ],
      "metadata": {
        "execution": {
          "iopub.status.busy": "2023-09-26T12:31:18.917562Z",
          "iopub.execute_input": "2023-09-26T12:31:18.918001Z",
          "iopub.status.idle": "2023-09-26T12:31:18.935719Z",
          "shell.execute_reply.started": "2023-09-26T12:31:18.917958Z",
          "shell.execute_reply": "2023-09-26T12:31:18.93415Z"
        },
        "trusted": true,
        "id": "Fw0aQHIom4HH"
      },
      "execution_count": null,
      "outputs": []
    },
    {
      "cell_type": "code",
      "source": [
        "zmt['cost'] = pd.to_numeric(zmt['cost'], errors='coerce')  # 'coerce' to handle non-numeric values\n",
        "plt.figure(figsize=(10, 5))\n",
        "sns.kdeplot(x='cost', data=zmt)\n",
        "plt.show()"
      ],
      "metadata": {
        "execution": {
          "iopub.status.busy": "2023-09-26T12:31:21.841776Z",
          "iopub.execute_input": "2023-09-26T12:31:21.842196Z",
          "iopub.status.idle": "2023-09-26T12:31:22.416496Z",
          "shell.execute_reply.started": "2023-09-26T12:31:21.842163Z",
          "shell.execute_reply": "2023-09-26T12:31:22.415119Z"
        },
        "trusted": true,
        "id": "M04VSAlrm4HH"
      },
      "execution_count": null,
      "outputs": []
    },
    {
      "cell_type": "markdown",
      "source": [
        "By observing above kde plot we can say that most of the restaurants have cost between 1 to 1000Rs. for food and remaining have above 1000Rs for their food."
      ],
      "metadata": {
        "id": "4JcztSq_m4HH"
      }
    },
    {
      "cell_type": "markdown",
      "source": [
        "**4) Find count of restaurants have table boking facility.**\n",
        "\n",
        "Here, we can use countplot but try to draw pointplot to see how it looks like."
      ],
      "metadata": {
        "id": "v13r5RLam4HH"
      }
    },
    {
      "cell_type": "code",
      "source": [
        "plt.figure(figsize=(10,5))\n",
        "table_booking= zmt.groupby('book_table')['restaurants'].count().reset_index()\n",
        "sns.pointplot(x='book_table',y='restaurants',color='b',data=table_booking)\n",
        "plt.show()"
      ],
      "metadata": {
        "execution": {
          "iopub.status.busy": "2023-09-26T12:31:40.497557Z",
          "iopub.execute_input": "2023-09-26T12:31:40.497972Z",
          "iopub.status.idle": "2023-09-26T12:31:40.773056Z",
          "shell.execute_reply.started": "2023-09-26T12:31:40.497939Z",
          "shell.execute_reply": "2023-09-26T12:31:40.771265Z"
        },
        "trusted": true,
        "id": "Cw0FjKf_m4HH"
      },
      "execution_count": null,
      "outputs": []
    },
    {
      "cell_type": "markdown",
      "source": [
        "By seeing above pointplot we can say that only 7000 restaurants have table booking facility and 35000+ restaurants don't have facility of table booking."
      ],
      "metadata": {
        "id": "mzuIFLwbm4HH"
      }
    },
    {
      "cell_type": "markdown",
      "source": [
        "**5) Find number of restaurant at given location.**\n",
        "\n",
        "* 'BTM'\n",
        "* 'Basavanagudi'\n",
        "* 'West Bangalore'\n",
        "* 'Whitefield'\n",
        "* 'Yeshwantpur'"
      ],
      "metadata": {
        "id": "Ri3HSnbIm4HH"
      }
    },
    {
      "cell_type": "code",
      "source": [
        "df=pd.DataFrame(zmt.groupby('location')['restaurants'].count()).reset_index()\n",
        "criteria=df['location'].isin(['BTM', 'Basavanagudi','West Bangalore','Whitefield','Yeshwantpur'])\n",
        "plt.figure(figsize=(10,5))\n",
        "sns.barplot(x='location',y='restaurants',data=df[criteria])\n",
        "plt.show()"
      ],
      "metadata": {
        "execution": {
          "iopub.status.busy": "2023-09-26T12:31:44.638189Z",
          "iopub.execute_input": "2023-09-26T12:31:44.639503Z",
          "iopub.status.idle": "2023-09-26T12:31:44.945722Z",
          "shell.execute_reply.started": "2023-09-26T12:31:44.639448Z",
          "shell.execute_reply": "2023-09-26T12:31:44.944261Z"
        },
        "trusted": true,
        "id": "VSS4LZP-m4HI"
      },
      "execution_count": null,
      "outputs": []
    },
    {
      "cell_type": "markdown",
      "source": [
        "By seeing given plot, we can notice that how many restaurants present are at given locations.\n",
        "\n",
        "Ex:-\n",
        "\n",
        "BTM lication has 4000+ restaurants"
      ],
      "metadata": {
        "id": "p2wVyGjfm4HI"
      }
    },
    {
      "cell_type": "markdown",
      "source": [
        "**6) Find most famous restaurants chains(like Franchise(Rastaurants having more than one branch) in Bangalore.**\n",
        "\n",
        "We working on a zomato dataset of bangalore location so we can asume that all locations are belongs to bangalore.\n",
        "\n",
        "* In this problem we need to find restaurant at each location having more than 1 branch and high rating."
      ],
      "metadata": {
        "id": "icLOYJftm4HI"
      }
    },
    {
      "cell_type": "code",
      "source": [
        "df1=pd.DataFrame(zmt.groupby(['location', 'restaurants','rating']).count()).reset_index()\n",
        "df1"
      ],
      "metadata": {
        "execution": {
          "iopub.status.busy": "2023-09-26T12:31:55.913326Z",
          "iopub.execute_input": "2023-09-26T12:31:55.913803Z",
          "iopub.status.idle": "2023-09-26T12:31:56.005063Z",
          "shell.execute_reply.started": "2023-09-26T12:31:55.913765Z",
          "shell.execute_reply": "2023-09-26T12:31:56.003564Z"
        },
        "trusted": true,
        "id": "TbLxNhtQm4HI"
      },
      "execution_count": null,
      "outputs": []
    },
    {
      "cell_type": "code",
      "source": [
        "sns.displot(df1['cost'])"
      ],
      "metadata": {
        "execution": {
          "iopub.status.busy": "2023-09-26T12:31:59.792159Z",
          "iopub.execute_input": "2023-09-26T12:31:59.792573Z",
          "iopub.status.idle": "2023-09-26T12:32:00.488721Z",
          "shell.execute_reply.started": "2023-09-26T12:31:59.792538Z",
          "shell.execute_reply": "2023-09-26T12:32:00.487193Z"
        },
        "trusted": true,
        "id": "GsoE4SmOm4HI"
      },
      "execution_count": null,
      "outputs": []
    },
    {
      "cell_type": "markdown",
      "source": [
        "Note that all columns having some count values these are nothing but a count of that restaurant at given location.\n",
        "\n",
        "We can see some restaurants having 1 count and some having more than 1. We want that restaurants which having more than 1 count and high rating."
      ],
      "metadata": {
        "id": "AohPVfgam4HI"
      }
    },
    {
      "cell_type": "code",
      "source": [
        "chain_restaurants = df1[df1['book_table'] > 1]\n",
        "famous_restaurants = chain_restaurants.groupby('location')[['restaurants', 'rating']].max().reset_index()\n",
        "famous_restaurants"
      ],
      "metadata": {
        "execution": {
          "iopub.status.busy": "2023-09-26T12:34:04.897644Z",
          "iopub.execute_input": "2023-09-26T12:34:04.898068Z",
          "iopub.status.idle": "2023-09-26T12:34:04.938342Z",
          "shell.execute_reply.started": "2023-09-26T12:34:04.898035Z",
          "shell.execute_reply": "2023-09-26T12:34:04.937141Z"
        },
        "trusted": true,
        "id": "VwU9x2Lcm4HI"
      },
      "execution_count": null,
      "outputs": []
    },
    {
      "cell_type": "markdown",
      "source": [
        "Finally, we got restaurant at each location has more that one branch and highest rating. Total 89 result we got. Let's try to plot only first 5 to get idea."
      ],
      "metadata": {
        "id": "o_IjBFDdm4HI"
      }
    },
    {
      "cell_type": "code",
      "source": [
        "sns.catplot(x='location', y='rating', hue=\"restaurants\", kind='bar', height=7, data=famous_restaurants.head())\n",
        ""
      ],
      "metadata": {
        "execution": {
          "iopub.status.busy": "2023-09-26T12:34:16.714577Z",
          "iopub.execute_input": "2023-09-26T12:34:16.715011Z",
          "iopub.status.idle": "2023-09-26T12:34:17.363674Z",
          "shell.execute_reply.started": "2023-09-26T12:34:16.714973Z",
          "shell.execute_reply": "2023-09-26T12:34:17.362396Z"
        },
        "trusted": true,
        "id": "cRD65ma3m4HI"
      },
      "execution_count": null,
      "outputs": []
    },
    {
      "cell_type": "markdown",
      "source": [
        "Here we can see that famous restaurant having more that one branch at location and their rating as well.\n",
        "\n",
        "Ex.:\n",
        "\n",
        "We can say that, at BTM location in bangalore \"eat.fit\" restaurant is a famous restaurant franchise having maximum rating(4.9) compare to other restaurants franchise's at same location.\n",
        "\n",
        "At Banashankari location in bangalore \"Yo Roll Corner\" restaurant is a famous restaurant franchise having maximum rating(4.6) compare to other restaurants franchise's at same location.\n",
        "\n",
        "At Banaswadi location in bangalore \"Zam Zam Restaurant\" restaurant is a famous restaurant franchise having maximum rating(4.0) compare to other restaurants franchise's at same location.\n",
        "and so on..."
      ],
      "metadata": {
        "id": "UaBlPdo2m4HJ"
      }
    },
    {
      "cell_type": "markdown",
      "source": [
        "**7) Find how many voters gives rating for each 'type' and aggregate rating of that 'type'.**"
      ],
      "metadata": {
        "id": "lhtTRBpxm4HJ"
      }
    },
    {
      "cell_type": "code",
      "source": [
        "zmt.head(1)"
      ],
      "metadata": {
        "execution": {
          "iopub.status.busy": "2023-09-26T12:13:54.648941Z",
          "iopub.execute_input": "2023-09-26T12:13:54.649371Z",
          "iopub.status.idle": "2023-09-26T12:13:54.666157Z",
          "shell.execute_reply.started": "2023-09-26T12:13:54.649338Z",
          "shell.execute_reply": "2023-09-26T12:13:54.665008Z"
        },
        "trusted": true,
        "id": "jvH5VDvFm4HJ"
      },
      "execution_count": null,
      "outputs": []
    },
    {
      "cell_type": "code",
      "source": [
        "plt.figure(figsize=(15,30))\n",
        "df2=zmt.groupby('type').agg({'votes':'sum', 'rating':'mean'}).nlargest(7,['votes']).reset_index()\n",
        "sns.catplot(x='type', y='rating', hue='votes', kind='bar', height=8, data=df2)\n",
        "plt.show()"
      ],
      "metadata": {
        "execution": {
          "iopub.status.busy": "2023-09-26T12:34:35.042718Z",
          "iopub.execute_input": "2023-09-26T12:34:35.043149Z",
          "iopub.status.idle": "2023-09-26T12:34:35.87446Z",
          "shell.execute_reply.started": "2023-09-26T12:34:35.043106Z",
          "shell.execute_reply": "2023-09-26T12:34:35.873193Z"
        },
        "trusted": true,
        "id": "x5Kcgn07m4HJ"
      },
      "execution_count": null,
      "outputs": []
    },
    {
      "cell_type": "markdown",
      "source": [
        "**8) Gaussian Rest Type(Normal Distribution) of Rating.**"
      ],
      "metadata": {
        "id": "eIm3WZFam4HJ"
      }
    },
    {
      "cell_type": "code",
      "source": [
        "sns.displot(zmt['rating'])"
      ],
      "metadata": {
        "execution": {
          "iopub.status.busy": "2023-09-26T12:34:48.391908Z",
          "iopub.execute_input": "2023-09-26T12:34:48.392341Z",
          "iopub.status.idle": "2023-09-26T12:34:49.087792Z",
          "shell.execute_reply.started": "2023-09-26T12:34:48.392307Z",
          "shell.execute_reply": "2023-09-26T12:34:49.086423Z"
        },
        "trusted": true,
        "id": "PIIZYGCnm4HJ"
      },
      "execution_count": null,
      "outputs": []
    },
    {
      "cell_type": "markdown",
      "source": [
        "We got a normal distribution form of our rating and we observe that we have maximum ratings between 3.5 to 4.5."
      ],
      "metadata": {
        "id": "qFj_CIWhm4HJ"
      }
    },
    {
      "cell_type": "markdown",
      "source": [
        "**9) Find the how many Restaurants havign Chinese and North Indian food in their food type.**"
      ],
      "metadata": {
        "id": "5BxNy332m4HJ"
      }
    },
    {
      "cell_type": "code",
      "source": [
        "Chinese=len([i for i in zmt['food_type'] if 'Chinese' in i])\n",
        "North_Indian=len([i for i in zmt['food_type'] if 'North Indian' in i])\n",
        "Restaurant_count=[Chinese,North_Indian]\n",
        "Food_Type=['Chinese','North Indian']\n",
        "df3 = pd.DataFrame({'Food_Type': Food_Type, 'Restaurant_count': Restaurant_count})"
      ],
      "metadata": {
        "execution": {
          "iopub.status.busy": "2023-09-26T12:35:02.302992Z",
          "iopub.execute_input": "2023-09-26T12:35:02.303436Z",
          "iopub.status.idle": "2023-09-26T12:35:02.334783Z",
          "shell.execute_reply.started": "2023-09-26T12:35:02.303387Z",
          "shell.execute_reply": "2023-09-26T12:35:02.333218Z"
        },
        "trusted": true,
        "id": "Wy7X9EiKm4HK"
      },
      "execution_count": null,
      "outputs": []
    },
    {
      "cell_type": "code",
      "source": [
        "sns.barplot(x='Food_Type', y='Restaurant_count', data=df3)\n",
        "plt.show()"
      ],
      "metadata": {
        "execution": {
          "iopub.status.busy": "2023-09-26T12:35:05.394907Z",
          "iopub.execute_input": "2023-09-26T12:35:05.395323Z",
          "iopub.status.idle": "2023-09-26T12:35:05.62181Z",
          "shell.execute_reply.started": "2023-09-26T12:35:05.39529Z",
          "shell.execute_reply": "2023-09-26T12:35:05.620581Z"
        },
        "trusted": true,
        "id": "tF0lcWb_m4HK"
      },
      "execution_count": null,
      "outputs": []
    },
    {
      "cell_type": "markdown",
      "source": [
        "Here, We got actual count of restaurants who serving chinese and North Indian food."
      ],
      "metadata": {
        "id": "A80KN8rvm4HK"
      }
    },
    {
      "cell_type": "markdown",
      "source": [
        "**10) Find the most profitable type of restaurant.**"
      ],
      "metadata": {
        "id": "pjoAN6VQm4HK"
      }
    },
    {
      "cell_type": "code",
      "source": [
        "df4=zmt.groupby('type').agg({'cost':'mean'})\n",
        "df4.cost.plot(kind='pie', autopct='%1.1f%%', figsize=(9,9), shadow=True)\n",
        "plt.show()"
      ],
      "metadata": {
        "execution": {
          "iopub.status.busy": "2023-09-26T12:35:09.382148Z",
          "iopub.execute_input": "2023-09-26T12:35:09.382558Z",
          "iopub.status.idle": "2023-09-26T12:35:09.637763Z",
          "shell.execute_reply.started": "2023-09-26T12:35:09.382525Z",
          "shell.execute_reply": "2023-09-26T12:35:09.632955Z"
        },
        "trusted": true,
        "id": "O3fSoXtQm4HK"
      },
      "execution_count": null,
      "outputs": []
    },
    {
      "cell_type": "markdown",
      "source": [
        "Here, by seeing the total percentage of average cost we can observe that. The restaurants having Drink and Nightlife facility are in high profit than other types.\n",
        "\n"
      ],
      "metadata": {
        "id": "Mt_n_e5Xm4HK"
      }
    },
    {
      "cell_type": "markdown",
      "source": [
        "# Conclusion:\n",
        "\n",
        "In the Given dataset we have explored and learned many things,\n",
        "\n",
        "* we learned about how to clean our data.\n",
        "* How we can interprete data by visualizing it."
      ],
      "metadata": {
        "id": "O3Rq312Zm4HK"
      }
    },
    {
      "cell_type": "code",
      "source": [],
      "metadata": {
        "id": "16flYX8Xm4HK"
      },
      "execution_count": null,
      "outputs": []
    }
  ]
}